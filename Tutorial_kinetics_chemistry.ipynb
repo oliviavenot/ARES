{
 "cells": [
  {
   "cell_type": "markdown",
   "id": "ee4ef3c0",
   "metadata": {},
   "source": [
    "# Introduction to `pychegp`\n",
    "\n",
    "*Author: Olivia Venot (CNRS/LISA/Univ. de Paris/Univ. Paris Est Créteil)*\n",
    "\n",
    "\n",
    "`pychegp` is a 1D kinetic code that calculates the chemical composition of warm exoplanet atmospheres. Originally, `CHEGP` was a Fortran 90 code, but has been completety re-written in python by Ahmed Al-Refaie and plugged in with `TauREx 3.1`, which facilitates the calculation of observable outputs (e.g. synthetic spectra).\n",
    "\n",
    "This tutorial will show you how to install and run the code `pychegp`, when used within the `TauREx 3.1` framework. It will show you how to modify the characteristics of the planet you want to study and how to plot the corresponding transmission and emission spectra.\n",
    "\n",
    "Several options are possible to generate the planetary thermal profile. One of them is to use a thermal profile calculated by a radiative-transfer model.\n",
    "In this tutorial, we will see how to use the code `exo_k`, written by Jérémy Leconte, to calculate thermal profiles and use them in `pychegp`."
   ]
  },
  {
   "cell_type": "markdown",
   "id": "5d81b909",
   "metadata": {},
   "source": [
    "## Installation\n",
    "\n",
    "As the code will be used as a plugin in `TauREx 3.1`, you need to install this code by typing in your terminal\n",
    "```\n",
    "pip install taurex\n",
    "```\n",
    "You need to install the chemical equilibrium code `ACE` using the command line:\n",
    "```\n",
    "pip install taurex-ace\n",
    "```\n",
    "You need to install the code `pychegp` using the command line\n",
    "```\n",
    "pip install -i https://test.pypi.org/simple/ -U pychegp\n",
    "```\n",
    "Note that the code `pychegp` is not in a pubic version yet. By the way, any suggestion of a cool name for the code are very welcome before the code is publicly released !"
   ]
  },
  {
   "cell_type": "markdown",
   "id": "5165c962",
   "metadata": {},
   "source": [
    "## Initialization\n",
    "\n",
    "To run the code, you need to import some common libraries:"
   ]
  },
  {
   "cell_type": "code",
   "execution_count": 1,
   "id": "a9f41f84",
   "metadata": {
    "init_cell": true
   },
   "outputs": [],
   "source": [
    "import matplotlib.pyplot as plt\n",
    "%matplotlib notebook\n",
    "from ipywidgets import *\n",
    "import numpy as np\n",
    "import sys\n",
    "import taurex.log\n",
    "\n",
    "import exo_k as xk\n",
    "xk.Settings().set_mks(True)\n",
    "import matplotlib.pyplot as plt\n",
    "import matplotlib.colors as cols\n",
    "import astropy.units as u\n",
    "import time,sys\n",
    "from exo_k.atm_evolution import Atm_evolution"
   ]
  },
  {
   "cell_type": "markdown",
   "id": "73e2f73c",
   "metadata": {},
   "source": [
    "TauREx logs can be disabled to hide intermediary messages:"
   ]
  },
  {
   "cell_type": "code",
   "execution_count": 2,
   "id": "5ac5a3ae",
   "metadata": {
    "init_cell": true
   },
   "outputs": [],
   "source": [
    "taurex.log.disableLogging()"
   ]
  },
  {
   "cell_type": "markdown",
   "id": "876e5add",
   "metadata": {},
   "source": [
    "You can also create a nice environment to plot your figures with these lines:"
   ]
  },
  {
   "cell_type": "code",
   "execution_count": 3,
   "id": "a05dfeea",
   "metadata": {
    "init_cell": true
   },
   "outputs": [],
   "source": [
    "plt.rcParams[\"figure.figsize\"] = (7,4)\n",
    "from matplotlib import cycler\n",
    "colors = cycler('color',[plt.cm.inferno(i) for i in np.linspace(0.2,1,5)])\n",
    "plt.rc('axes', axisbelow=True, grid=True, labelcolor='dimgray', labelweight='bold', prop_cycle=colors)\n",
    "plt.rc('grid', linestyle='solid')\n",
    "plt.rc('xtick', direction='in', color='dimgray')\n",
    "plt.rc('ytick', direction='in', color='dimgray')\n",
    "plt.rc('lines', linewidth=1.5)"
   ]
  },
  {
   "cell_type": "markdown",
   "id": "970ba9d4",
   "metadata": {},
   "source": [
    "To use `TauREx 3.1`, you need to have infrared cross-sections and collision-induced absorption data. Those are tables characterising the IR absorption of each species in the atmosphere. They depends on wavelength, temperature, and pressure. If you don't have them already on your computer, a directory with some sample files can be downloaded here:\n",
    "\n",
    "\n",
    "*https://liveuclac-my.sharepoint.com/:f:/g/personal/ucapqch_ucl_ac_uk/Eupk2usw2e1ArmgluzbJ_XMBEO8q8daAZEhqdMxHxs817A?e=Fyk95l*.\n",
    "\n",
    "In the following command line, simply replace the opacity and cia paths with the correct ones on your computer.\n",
    "\n",
    "Before running `TauREx`, you have to load these IR data."
   ]
  },
  {
   "cell_type": "code",
   "execution_count": 4,
   "id": "f28d55bb",
   "metadata": {
    "init_cell": true
   },
   "outputs": [],
   "source": [
    "# load the cross section and cia information.\n",
    "\n",
    "from taurex.cache import OpacityCache,CIACache\n",
    "OpacityCache().clear_cache()\n",
    "OpacityCache().set_opacity_path(\"/Users/olivia/Documents/TauREx/Inputs/xsec/taurex3_xsec_hdf5_sampled_R15000_0.3-50_2021MAY\")\n",
    "CIACache().set_cia_path(\"/Users/olivia/Documents/TauREx/Inputs/cia/hitran\")\n"
   ]
  },
  {
   "cell_type": "markdown",
   "id": "0d7703cb",
   "metadata": {},
   "source": [
    "Similarly, for `exo_k`, you need to have IR cross section. `exo_k` uses data with a lower resolution. You will find these data here : *link*"
   ]
  },
  {
   "cell_type": "markdown",
   "id": "1ab48b25",
   "metadata": {},
   "source": [
    "## Definition of the planetary system\n",
    "\n",
    "### The host star\n",
    "\n",
    "You need to define the characteristics of the host star in the system you want to model. \n",
    "\n",
    "First, you define the flux of the star used by `TauREx` in order to calculate the synthetic spectra and eventually the thermal profile. \n",
    "You have two possibilities. First, you consider that the star has the irradiation of a black body. In this case, you import the library `Blackbodystar` and you need to indicate the `temperature`, the `radius` and the `mass` of the star. The command line is:\n",
    "\n",
    "```\n",
    "from taurex.stellar import BlackbodyStar\n",
    "star = BlackbodyStar(temperature=3000,radius=1.0,mass=1.0)\n",
    "```\n",
    "\n",
    "Another possibility is to use a stellar model, like the Phoenix models (https://phoenix.ens-lyon.fr/simulator-jsf22-26/index.faces). In this case, you have to import the library `PhoenixStar`and indicate, in addition of the previous parameters, the path to the file to interpolate the stellar flux in `phoenix_path`.\n",
    "The command is:\n",
    "```\n",
    "from taurex.stellar import PhoenixStar\n",
    "star = PhoenixStar(temperature=3000,radius=1.0,mass=1.0, phoenix_path='folder')\n",
    "```\n",
    "\n",
    "As an example in this tutorial, we model the star as a black body of 6000 K:"
   ]
  },
  {
   "cell_type": "code",
   "execution_count": null,
   "id": "b9e9bad7",
   "metadata": {
    "code_folding": []
   },
   "outputs": [],
   "source": [
    "#STAR\n",
    "from taurex.stellar import BlackbodyStar\n",
    "# temperature in Kelvin\n",
    "# radius in Sun radius\n",
    "# mass in Sun mass\n",
    "star = BlackbodyStar(temperature=6000,radius=1.203,mass=1.148)"
   ]
  },
  {
   "cell_type": "markdown",
   "id": "b6aba82e",
   "metadata": {},
   "source": [
    "The UV irradiation of the star, which is used by `pychegp` to calculate the photodissociations is defined later, when you set up the kinetic model.\n",
    "\n",
    "*Note that this code can also be used to model atmospheres of Brown Dwarf. In this case, you don't need to define the host star.-> check with Quentin*"
   ]
  },
  {
   "cell_type": "markdown",
   "id": "d02aeaea",
   "metadata": {},
   "source": [
    "### The planet\n",
    "\n",
    "To model the chemical composition of an exoplanet atmosphere, you need to set up the characteristics of your planet, by indicating the radius and the mass, in Jupiter units. You can also indicate the `name` of the planet. \n",
    "This parameter is usefull to store the output of the code.\n",
    "\n",
    "```\n",
    "from taurex.planet import Planet\n",
    "planet = Planet(planet_radius=1.2,planet_mass=0.5)\n",
    "name = 'PLANET'\n",
    "```\n",
    "\n",
    "As an example in this tutorial, we will study a hot Jupiter planet:"
   ]
  },
  {
   "cell_type": "code",
   "execution_count": null,
   "id": "34234767",
   "metadata": {
    "code_folding": []
   },
   "outputs": [],
   "source": [
    "#PLANET\n",
    "from taurex.planet import Planet\n",
    "# planet_radius in Jupiter radius\n",
    "# planet_mass in Jupiter mass\n",
    "planet_mass=0.69\n",
    "planet_radius=1.34\n",
    "planet = Planet(planet_radius=planet_radius,planet_mass=planet_mass)\n",
    "name = 'example'"
   ]
  },
  {
   "cell_type": "markdown",
   "id": "3475d968",
   "metadata": {},
   "source": [
    "Now you can set up the thermal profile of the planet. You have several possibilities : isothermal profile, parametrized profile, or load an external profile calculated with the method of your choice:\n",
    "\n",
    "#### Isothermal profile\n",
    "\n",
    "To use an isothermal profile, you need to import the library `Isothermal` from `TauREx` and define the temperature (`T`).\n",
    "\n",
    "```\n",
    "from taurex.temperature import Isothermal\n",
    "isothermal = Isothermal(T=1200)\n",
    "```\n",
    "#### Npoint profile\n",
    "\n",
    "You can also use a parametrized profile calculated using the `Npoint` method of `TauREx`. In this case, you need to define the temperature (`T_surface`) and pressure (`P_surface`) at the surface, the ones at the top of the atmosphere (`T_top` and `P_top`), and the nodes between which the code interpolates in `pressure_points` and `temperature_points`. Temperatures are in Kelvin and pressures in Pascal.\n",
    "\n",
    "```\n",
    "from taurex.temperature import NPoint\n",
    "NPoint = NPoint(T_surface=1200, T_top=800, P_surface=1e6, P_top=1e0, pressure_points=[1e3,], temperature_points=[1000,])\n",
    "```"
   ]
  },
  {
   "cell_type": "code",
   "execution_count": null,
   "id": "1baab716",
   "metadata": {},
   "outputs": [],
   "source": [
    "from taurex.temperature import NPoint\n",
    "NPoint = NPoint(T_surface=3000, T_top=1200, P_surface=1e7, P_top=1e-2, pressure_points=[1e5,1e3], temperature_points=[2000,1500])"
   ]
  },
  {
   "cell_type": "markdown",
   "id": "f9ff2049",
   "metadata": {},
   "source": [
    "#### Load an external profile\n",
    "Finally, you can load the thermal profile of your choice, calculated with an external code for instance. You need to import the `TemperatureFile` library of `TauREx`. You need to indicate the correct path for your file, the columns corresponding to the temperature (`temp_col`) and the pressure (`press_col`), as well as the units (`temp_units` and `press_units`). The conversion to the units used by `TauREx`(SI) is done with the `astropy` library. You can indicate in `skiprows` the size of the header to be skipped if necessary.\n",
    "\n",
    "```\n",
    "from taurex.temperature import TemperatureFile\n",
    "TemperatureFile = TemperatureFile(filename=\"path_to_your_file/profile.dat\", skiprows=0, temp_col=2, press_col=1, temp_units='K', press_units='mbar',delimiter=None, reverse=False)\n",
    "```\n"
   ]
  },
  {
   "cell_type": "markdown",
   "id": "f75d6f7b",
   "metadata": {},
   "source": [
    "#### Compute a radiative convective equilibrium profile\n",
    "\n",
    "To calculate the thermal profile of the planet, we will use the radiative-convective model `exo_k`.\n",
    "First, you set up the data that you are using. You have to write the molecules you consider to calculate the opacity of the atmosphere in `molecules_w_kdata`. Indicate only species for which you have cross section data.\n",
    "In `cia_molecules`, you indicate species for which you have CIA data.\n",
    "You have to indicate where are these data in `search_path`."
   ]
  },
  {
   "cell_type": "code",
   "execution_count": null,
   "id": "360b470e",
   "metadata": {},
   "outputs": [],
   "source": [
    "molecules_w_kdata=['H2O','CO','CH4','Na','PH3','TiO','VO','FeH','CO2','H2S','HCN','NH3']  # put here only the molecule for which we have cross sections\n",
    "cia_molecules=['He', 'H2']  # put here the molecules for which there is only CIA\n",
    "\n",
    "kdatabase=xk.Kdatabase(molecules_w_kdata,\n",
    "            search_path='exo_k-public/R10_homogeneous_from_R500/',\n",
    "            remove_zeros=True)\n",
    "print(kdatabase)\n",
    "\n",
    "cia_database=xk.CIAdatabase(molecules=cia_molecules)\n",
    "cia_database.sample(wngrid=kdatabase.wns) # interpolates the database on the same spectral grid\n",
    "print(cia_database)\n",
    "\n",
    "if kdatabase.p_unit !='Pa':\n",
    "    print(\"Careful, you are not using SI units... it will give you something, but things will go wrong eventually\")"
   ]
  },
  {
   "cell_type": "markdown",
   "id": "d263f92f",
   "metadata": {},
   "source": [
    "Then you define your atmosphere, with the number of layers (`Nlay`), the initial temperature at the surface (`T0`), and the temperature at the stratosphere (`Tstrat`). You also indicate the pressure at the surface (`psurf`) and at the top of the atmosphere (`ptop`).\n",
    "\n",
    "You set the `internal_flux` of the planet, by indicating the internal temperature. This temperature is not well constrained and depends on the internal structure. It should be given by an interior model.\n",
    "You can vary this parameter from 100 to $\\sim$500 K typically. \n",
    "The `solar_flux` corresponds to the mean stellar irradiation (i.e. the flux at the substellar point, divided by 4). It has to be calculated taking into accoun the stellar luminosity and the semi-major axis.\n",
    "\n",
    "You also define the composition of your atmosphere, by setting the volume mixing ratio of the main species in `bg_vmr`."
   ]
  },
  {
   "cell_type": "code",
   "execution_count": null,
   "id": "cdd1c14c",
   "metadata": {},
   "outputs": [],
   "source": [
    "Nlay=40; T0=2800.; Tstrat=1000.;\n",
    "grav=xk.G*planet_mass*xk.MJUP/(planet_radius*xk.RJUP)**2;\n",
    "psurf=1.e7; ptop=1.e0; \n",
    "\n",
    "internal_flux=xk.SIG_SB*500.**4\n",
    "solar_flux=xk.SIG_SB*1200.**4\n",
    "\n",
    "evol=Atm_evolution(Nlay=Nlay, Tsurf=T0, Tstrat=T0, psurf=psurf,\n",
    "                   ptop=ptop, grav=grav,\n",
    "                bg_vmr={'H2':'background', 'He':0.15,\n",
    "                        'H2O':0.001, 'CO':0.001, 'Na':1.e-5},\n",
    "                k_database=kdatabase,\n",
    "                internal_flux=internal_flux,\n",
    "                flux_top_dw=solar_flux,\n",
    "                )\n",
    "evol.evolve(Niter=1, N_kernel=10, verbose =False)   \n",
    "trad=evol.tlay; trad2=trad; prad=evol.atm.play;"
   ]
  },
  {
   "cell_type": "markdown",
   "id": "ea355892",
   "metadata": {},
   "source": [
    "You can now run the `exo_k` model, to calculate the thermal profile of the planet."
   ]
  },
  {
   "cell_type": "code",
   "execution_count": null,
   "id": "0b0551eb",
   "metadata": {},
   "outputs": [],
   "source": [
    "do_radiative_step=True\n",
    "start=time.time()\n",
    "time_init = evol.evol_time\n",
    "if do_radiative_step:\n",
    "    evol.set_options(dTmax_use_kernel=100., convection=False, radiative_acceleration=True)\n",
    "    evol.evolve(Niter=500, N_kernel=1000, alpha=1., verbose=False)\n",
    "    print('radiative equilibration step:',time.time()-start,'s')\n",
    "    trad=evol.tlay; prad=evol.atm.play;\n",
    "    evol.set_options(dTmax_use_kernel=100., convection=True, radiative_acceleration=True)\n",
    "    evol.evolve(Niter=5, N_kernel=500000, alpha=1., verbose=False)\n",
    "    trad2=evol.tlay;\n",
    "evol.set_options(dTmax_use_kernel=100., convection=True, radiative_acceleration=False)\n",
    "evol.evolve(Niter=200000, N_kernel=500000, alpha=1., verbose=False)\n",
    "print('evol_time(yr):',(evol.evol_time-time_init)*evol.cp/(xk.DAY*365.))\n",
    "print('timestep:',evol.timestep*evol.cp/(xk.DAY),'days, ',evol.timestep*evol.cp,'s')\n",
    "print(evol.N_last_ker)\n",
    "print('simulation time:',time.time()-start,'s')"
   ]
  },
  {
   "cell_type": "markdown",
   "id": "5f9b01d7",
   "metadata": {},
   "source": [
    "You can plot the evolution with time of the fluxes (at the top of the atmosphere and internal)."
   ]
  },
  {
   "cell_type": "code",
   "execution_count": null,
   "id": "02d41f05",
   "metadata": {},
   "outputs": [],
   "source": [
    "model_to_plot=evol\n",
    "tot_mass=np.sum(model_to_plot.atm.dmass)\n",
    "fig,axs=plt.subplots(1,2,sharey=False, figsize=(7,3))  \n",
    "axs[0].plot(model_to_plot.Fnet_top, label='Top of Atmosphere')\n",
    "axs[0].plot(np.ones_like(model_to_plot.Fnet_top)*internal_flux, label='internal flux')\n",
    "axs[0].set_ylabel(r'Net Flux')\n",
    "axs[0].set_xlabel(r'Timestep')\n",
    "axs[0].legend()\n",
    "fig.tight_layout()"
   ]
  },
  {
   "cell_type": "markdown",
   "id": "f205b7f7",
   "metadata": {},
   "source": [
    "And you can plot the heating in the atmosphere, the fluxes (radiative, convective and total), and the thermal profiles. The one that interest us the most in the \"rad-conv equ\"."
   ]
  },
  {
   "cell_type": "code",
   "execution_count": null,
   "id": "6c7b5f1a",
   "metadata": {},
   "outputs": [],
   "source": [
    "model_to_plot=evol\n",
    "fig2,axs2=plt.subplots(1,3,sharey=True, figsize=(7,3))  \n",
    "for label in ['rad','conv','tot']:\n",
    "    axs2[0].plot(model_to_plot.H_ave[model_to_plot.header[label]]*xk.DAY/model_to_plot.cp, model_to_plot.atm.play, label=label)\n",
    "    axs2[1].plot(model_to_plot.Fnet[model_to_plot.header[label]], model_to_plot.atm.play, label=label)\n",
    "axs2[2].plot(trad, prad, label='radiative equ')\n",
    "axs2[2].plot(trad2, prad, label='radiative equ2')\n",
    "axs2[2].plot(model_to_plot.atm.tlay, model_to_plot.atm.play, label='rad-conv equ')\n",
    "for ax in axs2:\n",
    "    ax.legend(fontsize='xx-small', loc='upper right')\n",
    "    ax.set_yscale('log')\n",
    "axs2[0].set_ylabel(r'Pressure (Pa)')\n",
    "axs2[0].set_xlabel(r'Heating (K/day)')\n",
    "axs2[1].set_xlabel(r'Fluxes')\n",
    "axs2[2].set_xlabel(r'T(K)')\n",
    "\n",
    "axs2[0].invert_yaxis()\n",
    "fig2.tight_layout()"
   ]
  },
  {
   "cell_type": "markdown",
   "id": "f70aafbb",
   "metadata": {},
   "source": [
    "In order to use this calculated thermal profile in the chemical model, to calculate the chemical composition, you have to save the data in an array. To do that, you import the `TemperatureArray` class of `TauREx` and type the following lines:"
   ]
  },
  {
   "cell_type": "code",
   "execution_count": null,
   "id": "86234c0a",
   "metadata": {},
   "outputs": [],
   "source": [
    "from taurex.data.profiles.temperature.temparray import TemperatureArray\n",
    "tp = TemperatureArray(tp_array=evol.atm.tlay[::-1], p_points=evol.atm.play[::-1], reverse=False)"
   ]
  },
  {
   "cell_type": "markdown",
   "id": "42e8f0a6",
   "metadata": {},
   "source": [
    "## Elemental abundances\n",
    "\n",
    "`ACEChemistry` and `pychegp` uses the elemental abundances defined in Lodders 2010, e.g. \n",
    "```\n",
    "H = 12, He = 10.925, C = 8.39, N = 7.86, O = 8.73\n",
    "```\n",
    "These abundances are expressed in dex, with by definition `H = 12`.\n",
    "The elemental abundance of `C` is not defined but is calculated depending on the C/O ratio required (`co_ratio`).\n",
    "Setting the `co_ratio = 0.457` corresponds to solar elemental abundances."
   ]
  },
  {
   "cell_type": "markdown",
   "id": "949ffca9",
   "metadata": {},
   "source": [
    "# Calculation of the chemical composition and the observables\n",
    "\n",
    "Now that you have set up the characteristics of the planetary system, you can calculate the chemical composition. First, we will explain how to calculate the thermochemical equilibrium, and in a second time, we will calculate the disequilibrium composition."
   ]
  },
  {
   "cell_type": "markdown",
   "id": "6a4ce7d7",
   "metadata": {},
   "source": [
    "## Thermochemical equilibrium\n",
    "\n",
    "You can calculate the chemical composition of the atmosphere at thermochemical equilibrium, using the library `ACEChemistry`. You just need to indicate the `metallicity` of the atmosphere (in solar units) and the C/O ratio, with the parameter `co_ratio`."
   ]
  },
  {
   "cell_type": "code",
   "execution_count": null,
   "id": "cbbad98f",
   "metadata": {},
   "outputs": [],
   "source": [
    "# define equilibrium chemistry\n",
    "\n",
    "from taurex_ace import ACEChemistry\n",
    "chemistryACE = ACEChemistry(metallicity=1, co_ratio = 0.457)"
   ]
  },
  {
   "cell_type": "markdown",
   "id": "cf1b21c9",
   "metadata": {},
   "source": [
    "### Radiative transfer model"
   ]
  },
  {
   "cell_type": "markdown",
   "id": "46d59474",
   "metadata": {},
   "source": [
    "#### Transmission model"
   ]
  },
  {
   "cell_type": "markdown",
   "id": "ef3da734",
   "metadata": {},
   "source": [
    "Now that you have define the type of chemical composition you want to calculate, you can prepare the radiative transfer model you want to run. You can do both emission or transmission model. You need to indicate the `planet`, the `temperature_profile`, the `chemistry`, and the `star`, which have been defined previsouly. In addition, you have to indicate the pressure boundaries with `atm_min_pressure` and `atm_max_pressure`, as well as the number of layers of your model (`nlayers`)."
   ]
  },
  {
   "cell_type": "code",
   "execution_count": null,
   "id": "bf49fa5f",
   "metadata": {},
   "outputs": [],
   "source": [
    "#transmission model with equilibrium chemistry\n",
    "from taurex.model import TransmissionModel\n",
    "tm_eq = TransmissionModel(planet=planet,\n",
    "                       temperature_profile=tp,\n",
    "                       chemistry=chemistryACE,\n",
    "                       star=star,\n",
    "                       atm_min_pressure=1e-2,\n",
    "                       atm_max_pressure=1e7,\n",
    "                       nlayers=100)"
   ]
  },
  {
   "cell_type": "markdown",
   "id": "20f45dc3",
   "metadata": {},
   "source": [
    "For the model to do something, we need to add some physics. E.g: contributions"
   ]
  },
  {
   "cell_type": "code",
   "execution_count": null,
   "id": "1e6945cc",
   "metadata": {},
   "outputs": [],
   "source": [
    "# add absorption contributions\n",
    "from taurex.contributions import AbsorptionContribution\n",
    "tm_eq.add_contribution(AbsorptionContribution())\n",
    "# add cia contributions\n",
    "from taurex.contributions import CIAContribution\n",
    "tm_eq.add_contribution(CIAContribution(cia_pairs=['H2-H2','H2-He']))\n",
    "# add rayleigh contributions\n",
    "from taurex.contributions import RayleighContribution\n",
    "tm_eq.add_contribution(RayleighContribution())\n",
    "# add clouds contribution. Clouds pressure is in Pa\n",
    "from taurex.contributions import SimpleCloudsContribution\n",
    "tm_eq.add_contribution(SimpleCloudsContribution(clouds_pressure=1e4))"
   ]
  },
  {
   "cell_type": "markdown",
   "id": "322c7733",
   "metadata": {},
   "source": [
    "The model needs to be built to initialize the different parts:"
   ]
  },
  {
   "cell_type": "code",
   "execution_count": null,
   "id": "6d5223b6",
   "metadata": {},
   "outputs": [],
   "source": [
    "tm_eq.build()"
   ]
  },
  {
   "cell_type": "markdown",
   "id": "179098a7",
   "metadata": {},
   "source": [
    "The model, using the thermochemical equilibrium composition, can now run. The results will be stored in `reseq`, but you can choose the name you want."
   ]
  },
  {
   "cell_type": "code",
   "execution_count": null,
   "id": "3e93e4d5",
   "metadata": {},
   "outputs": [],
   "source": [
    "res_eq = tm_eq.model()"
   ]
  },
  {
   "cell_type": "markdown",
   "id": "134304f3",
   "metadata": {},
   "source": [
    "#### Emission model"
   ]
  },
  {
   "cell_type": "markdown",
   "id": "b26a45be",
   "metadata": {},
   "source": [
    "Similarly, you can prepare the emission model. You need to define your model, add contributions, build and run the model. For emission, we use the contribution `FlatMieContribution` for clouds. The parameters you can access are: the opacity value (`flat_mix_ratio`), the bottom of absorbing region in Pa (`flat_bottomP`), and the top of absorbing region in Pa (`flat_topP`)"
   ]
  },
  {
   "cell_type": "code",
   "execution_count": null,
   "id": "4ee5c8b5",
   "metadata": {},
   "outputs": [],
   "source": [
    "#emission model with equilibrium chemistry\n",
    "from taurex.model import EmissionModel\n",
    "em_eq = EmissionModel(planet=planet,\n",
    "                       temperature_profile=tp,\n",
    "                       chemistry=chemistryACE,\n",
    "                       star=star,\n",
    "                       atm_min_pressure=1e-2,\n",
    "                       atm_max_pressure=1e7,\n",
    "                       nlayers=100)"
   ]
  },
  {
   "cell_type": "code",
   "execution_count": null,
   "id": "7f4e609e",
   "metadata": {},
   "outputs": [],
   "source": [
    "# add absorption contributions\n",
    "#from taurex.contributions import AbsorptionContribution\n",
    "em_eq.add_contribution(AbsorptionContribution())\n",
    "\n",
    "# add cia contributions\n",
    "#from taurex.contributions import CIAContribution\n",
    "em_eq.add_contribution(CIAContribution(cia_pairs=['H2-H2','H2-He']))\n",
    "\n",
    "# add rayleigh contributions\n",
    "#from taurex.contributions import RayleighContribution\n",
    "em_eq.add_contribution(RayleighContribution())\n",
    "\n",
    "# add clouds contribution.\n",
    "from taurex.contributions import FlatMieContribution\n",
    "em_eq.add_contribution(FlatMieContribution(flat_mix_ratio=10,flat_bottomP=1e6, flat_topP=1e3))"
   ]
  },
  {
   "cell_type": "code",
   "execution_count": null,
   "id": "fd84769c",
   "metadata": {},
   "outputs": [],
   "source": [
    "em_eq.build()"
   ]
  },
  {
   "cell_type": "code",
   "execution_count": null,
   "id": "2e4c070f",
   "metadata": {},
   "outputs": [],
   "source": [
    "res_em_eq = em_eq.model()"
   ]
  },
  {
   "cell_type": "markdown",
   "id": "cf50f70b",
   "metadata": {},
   "source": [
    "### Chemical composition"
   ]
  },
  {
   "cell_type": "markdown",
   "id": "9b854404",
   "metadata": {},
   "source": [
    "Once the code ran, you can see the chemical composition of the atmosphere. The best way to visualize it is to plot the abundances of the main species as a function of the pressure level. In the following example, we plot the active gases, as well as dihydrogene (H$_2$), atomic hydrogen (H), and Helium (He), which are inactive. In the following, we use the results of the transmission model, but you can use the ones of the Emission model as well, just replacing `tm_eq.` by `em_eq.`."
   ]
  },
  {
   "cell_type": "code",
   "execution_count": null,
   "id": "327a68b2",
   "metadata": {},
   "outputs": [],
   "source": [
    "#plot of thermochemical equilibrium\n",
    "\n",
    "activechemistry_eq = tm_eq.chemistry.activeGasMixProfile\n",
    "inactivechemistry_eq = tm_eq.chemistry.inactiveGasMixProfile\n",
    "pressure_eq = tm_eq.pressure.profile*1e-2\n",
    "\n",
    "colors=['blue','orange','green','cyan','navy','red','gold','olive','magenta','yellow','pink','grey']\n",
    "\n",
    "fig, ax = plt.subplots()\n",
    "\n",
    "## iterate over the active gases\n",
    "for index, gas in enumerate(tm_eq.chemistry.activeGases):\n",
    "    ax.plot(activechemistry_eq[index, :], pressure_eq,'-',color=colors[index], label=gas)\n",
    "    \n",
    "## iterate over the inactive gases. \n",
    "for index, gas in enumerate(tm_eq.chemistry.inactiveGases):\n",
    "    if gas in ['H2', 'He', 'H']:\n",
    "        ax.plot(inactivechemistry_eq[index, :], pressure_eq,'-', label=gas)    \n",
    "\n",
    "\n",
    "ax.legend()\n",
    "ax.set_xscale('log')\n",
    "ax.set_yscale('log')\n",
    "ax.set_xlim(1e-12, 1)\n",
    "ax.set_ylim(1e5, 1e-4)\n",
    "ax.set_xlabel('Volume Mixing Ratio')\n",
    "ax.set_ylabel('Pressure (mbar)')\n",
    "\n",
    "plt.show()"
   ]
  },
  {
   "cell_type": "markdown",
   "id": "e553c794",
   "metadata": {},
   "source": [
    "You see that the atmosphere is dominated by H$_2$ and He, with important amount of CO and H$_2$O."
   ]
  },
  {
   "cell_type": "markdown",
   "id": "f3b9ea09",
   "metadata": {},
   "source": [
    "### Synthetic spectra"
   ]
  },
  {
   "cell_type": "markdown",
   "id": "5579d81f",
   "metadata": {},
   "source": [
    "You can now plot the transmission and emission spectra corresponding to this chemical composition. "
   ]
  },
  {
   "cell_type": "markdown",
   "id": "7791a267",
   "metadata": {},
   "source": [
    "#### Transmission Spectrum"
   ]
  },
  {
   "cell_type": "markdown",
   "id": "2a57e708",
   "metadata": {},
   "source": [
    "You need first to unpack the results of your model (`res_eq`) in different variables. `res_eq` contains the grid of wavelengths (in fact wavenumbers), the transit depth, and the optical depth."
   ]
  },
  {
   "cell_type": "code",
   "execution_count": null,
   "id": "48a169e0",
   "metadata": {},
   "outputs": [],
   "source": [
    "# Transmission spectrum for equilibrim composition:\n",
    "native_grid_eq, rprs_eq, tau_eq, _ = res_eq"
   ]
  },
  {
   "cell_type": "markdown",
   "id": "3896147d",
   "metadata": {},
   "source": [
    "`native_grid` is in wavenumber by convention. It is convenient to convert it in wavelengths if you like to work with this unit."
   ]
  },
  {
   "cell_type": "code",
   "execution_count": null,
   "id": "8a6b2c90",
   "metadata": {},
   "outputs": [],
   "source": [
    "native_grid_wl_eq = 10000/native_grid_eq"
   ]
  },
  {
   "cell_type": "code",
   "execution_count": null,
   "id": "8edf60af",
   "metadata": {},
   "outputs": [],
   "source": [
    "plt.figure()\n",
    "plt.plot(native_grid_wl_eq, rprs_eq, color='red')\n",
    "plt.xlabel('Wavelength ($\\mu$m)')\n",
    "plt.ylabel('Transit depth (%)')\n",
    "plt.xlim(0.5, 8)\n",
    "plt.show()"
   ]
  },
  {
   "cell_type": "markdown",
   "id": "94926872",
   "metadata": {},
   "source": [
    "This plot is at quite high resolution, and it's hard to see anything. You can bin the spectra using the util function `create_grid_res` and the binner `FluxBinner` from `TauREx`. Let's select only the range 0.5 to 8 $\\mu$m and choose a resolution of 80."
   ]
  },
  {
   "cell_type": "code",
   "execution_count": null,
   "id": "7145ca12",
   "metadata": {},
   "outputs": [],
   "source": [
    "from taurex.binning import FluxBinner\n",
    "from taurex.util.util import create_grid_res\n",
    "# We choose the resolution and the range of wavelength\n",
    "lowres_grid = create_grid_res(80, 0.5, 8.0)\n",
    "# We initialise the binner with this grid, passing the wavelength and the bin size.\n",
    "fb = FluxBinner(lowres_grid[:,0], lowres_grid[:,1])\n",
    "# We can now bin the native spectrum (Note that the grid must be sorted by increasing wavelengths)\n",
    "lowres_spectrum_eq = fb.bindown(native_grid_wl_eq[::-1], rprs_eq[::-1])"
   ]
  },
  {
   "cell_type": "markdown",
   "id": "d3538067",
   "metadata": {},
   "source": [
    "You can now plot the high and low resolution spectra in order to check that everything has been done right."
   ]
  },
  {
   "cell_type": "code",
   "execution_count": null,
   "id": "f46610fd",
   "metadata": {},
   "outputs": [],
   "source": [
    "plt.figure()\n",
    "plt.plot(native_grid_wl_eq, rprs_eq, color='blue', label='High resolution spectrum')\n",
    "plt.plot(lowres_spectrum_eq[0], lowres_spectrum_eq[1], color='orange', label='Low resolution spectrum')\n",
    "plt.xlabel('Wavelength ($\\mu$m)')\n",
    "plt.ylabel('Transit depth (%)')\n",
    "plt.legend()\n",
    "plt.xlim(0.5,8.0)\n",
    "plt.show()"
   ]
  },
  {
   "cell_type": "markdown",
   "id": "c19c89c5",
   "metadata": {},
   "source": [
    "#### Emission spectrum"
   ]
  },
  {
   "cell_type": "markdown",
   "id": "9bb23d28",
   "metadata": {},
   "source": [
    "To plot the emission spectrum, steps are the same:"
   ]
  },
  {
   "cell_type": "code",
   "execution_count": null,
   "id": "b9a00119",
   "metadata": {},
   "outputs": [],
   "source": [
    "# Emission spectrum for equilibrim composition:\n",
    "native_grid_em_eq, fpfs_em_eq, tau_em_eq, _ = res_em_eq"
   ]
  },
  {
   "cell_type": "code",
   "execution_count": null,
   "id": "5ae8d5e0",
   "metadata": {},
   "outputs": [],
   "source": [
    "native_grid_wl_em_eq = 10000/native_grid_em_eq"
   ]
  },
  {
   "cell_type": "code",
   "execution_count": null,
   "id": "ca96a1a4",
   "metadata": {},
   "outputs": [],
   "source": [
    "plt.figure()\n",
    "plt.plot(native_grid_wl_em_eq, fpfs_em_eq, color='red')\n",
    "plt.xlabel('Wavelength ($\\mu$m)')\n",
    "plt.ylabel('F$_p$/F$_s$')\n",
    "plt.xlim(0.5, 8)\n",
    "plt.ylim(0,0.001)\n",
    "plt.show()"
   ]
  },
  {
   "cell_type": "markdown",
   "id": "525cad2c",
   "metadata": {},
   "source": [
    "As for transmission spectrum, you can binned down the resolution:"
   ]
  },
  {
   "cell_type": "code",
   "execution_count": null,
   "id": "23a0005d",
   "metadata": {},
   "outputs": [],
   "source": [
    "#from taurex.binning import FluxBinner\n",
    "#from taurex.util.util import create_grid_res\n",
    "# We choose the resolution and the range of wavelength\n",
    "lowres_grid = create_grid_res(80, 0.5, 8.0)\n",
    "# We initialise the binner with this grid, passing the wavelength and the bin size.\n",
    "fb = FluxBinner(lowres_grid[:,0], lowres_grid[:,1])\n",
    "# We can now bin the native spectrum (Note that the grid must be sorted by increasing wavelengths)\n",
    "lowres_spectrum_em_eq = fb.bindown(native_grid_wl_em_eq[::-1], fpfs_em_eq[::-1])"
   ]
  },
  {
   "cell_type": "code",
   "execution_count": null,
   "id": "ea9a1931",
   "metadata": {},
   "outputs": [],
   "source": [
    "plt.figure()\n",
    "plt.plot(native_grid_wl_eq, fpfs_em_eq, color='blue', label='High resolution spectrum')\n",
    "plt.plot(lowres_spectrum_em_eq[0], lowres_spectrum_em_eq[1], color='orange', label='Low resolution spectrum')\n",
    "plt.xlabel('Wavelength ($\\mu$m)')\n",
    "plt.ylabel('F$_p$/F$_s$')\n",
    "plt.legend()\n",
    "plt.xlim(0.5,8.0)\n",
    "plt.ylim(0,0.001)\n",
    "plt.show()"
   ]
  },
  {
   "cell_type": "markdown",
   "id": "bae271b8",
   "metadata": {},
   "source": [
    "## Disequilibrium composition\n",
    "\n",
    "Now that you ran the model assuming thermochemical equilibrium, you can run the model taking into account the disequilibrium chemistry. This time you use the code `pychegp`, that is used as a library:`PychegpDiseq`. As for the calculation of chemical equilibrium, you need to define the `metallicity`, the `co_ratio`, but also parameters specific to the kinetic model, such as the eddy diffusion coefficient (`Kzz_value` expressed in cm$^2$.s${^-1}$). Another usefull parameter is `o_seq`, which permits to indicate the amount of oxygen you want to remove from the elemental abundance defined with `metallicity` and `co_ratio`. This permits to simulate a depletion for oxygen, due to the sequestration within silicates and metals.\n",
    "\n",
    "Other arguments are :\n",
    "\n",
    "`maximum_runtime` (in minutes) permits to stop the code if it has not converged yet.\n",
    "`verbose`=True *DON'T KNOW*\n",
    "`df_stop` and `dfdt_stop` are two criteria of convergence that need to be both fullfiled. They indicate that the atmosphere reached the steady state composition. `df` is the maximum variation of mixing ratio from an iteration to another and `dfdt` is the variation of the derivative with time. The default values are respectivly `0.0005` and `1e-4`.\n",
    "\n",
    "You can also indicate the maximum simulation time (`t_final` in seconds) you want to reach, if the criteria of steady state have not been reached before.\n",
    "\n",
    "If you want to take into account the influence of the star (and thus photodissociations), you need to indicate the flux of the star in `star_path`. The format of the file is wavelenght (in nm) in the first column, and  stellar flux in cm$^{-2}$.s$^{-1}$. If you don't indicate the flux, no photodissociation will be calculated.\n",
    "\n",
    "`rejection_scheme` is for ...\n",
    "\n",
    "\n",
    "`atol` and `rtol` are parameter for the solver. They correspond respectively to the absolute and relative tolerance. By default, the values are `atol=1e-25` and `rtol=1e-3`.\n",
    "\n",
    "You can disable molecular diffusion with the option `disable_diffusion`. `False` means that diffusion is active.\n",
    "\n",
    "Finally, there are optional entries, linked to the chemical scheme that you want to use. By default, the code will use the chemical scheme from Venot et al . 2020 (https://doi.org/10.1051/0004-6361/201936697). But you can indicate the chemical scheme of your choice, indicating the list of species in `spec_file`, and the folder with the files containing the chemical reactions in `data_path`. The thermodynamic data are the ones used by Venot et al. 2020, but you can use the file of your choice, indicated in `therm_file`."
   ]
  },
  {
   "cell_type": "code",
   "execution_count": null,
   "id": "ccdc531a",
   "metadata": {},
   "outputs": [],
   "source": [
    "from pychegp.taurex import PychegpDiseq\n",
    "chemistry = PychegpDiseq(metallicity = 1.0, co_ratio = 0.457, Kzz_value = 1e9,\n",
    "                         o_seq=0.0, maximum_runtime=15.0, verbose=True , df_stop=0.0005, dfdt_stop=1e-4, \n",
    "                         t_final=1e12, star_path=\"pychegp/examples/stellarflux_Sun.dat\", rejection_scheme='exception', \n",
    "                         atol=1e-25, rtol=1e-3, disable_diffusion=False)"
   ]
  },
  {
   "cell_type": "markdown",
   "id": "f62bd419",
   "metadata": {},
   "source": [
    "### Radiative transfer model"
   ]
  },
  {
   "cell_type": "markdown",
   "id": "d817a5aa",
   "metadata": {},
   "source": [
    "Now that the chemistry has been set up as 'disequilibrium', you can prepare the calculation of the radiative transfer model, either transmission or emission, like you did for the thermochemical equilibrium model. Let's begin with transmission."
   ]
  },
  {
   "cell_type": "markdown",
   "id": "0fd694df",
   "metadata": {},
   "source": [
    "#### Transmission model"
   ]
  },
  {
   "cell_type": "code",
   "execution_count": null,
   "id": "7071fd47",
   "metadata": {},
   "outputs": [],
   "source": [
    "#from taurex.model import TransmissionModel\n",
    "tm_diseq = TransmissionModel(planet=planet,\n",
    "                       temperature_profile=tp,\n",
    "                       chemistry=chemistry,\n",
    "                       star=star,\n",
    "                       atm_min_pressure=1e-2,\n",
    "                       atm_max_pressure=1e7,\n",
    "                       nlayers=100)"
   ]
  },
  {
   "cell_type": "markdown",
   "id": "e539467f",
   "metadata": {},
   "source": [
    "Then, you need to add the contributions to the Transmission model:"
   ]
  },
  {
   "cell_type": "code",
   "execution_count": null,
   "id": "f970bf42",
   "metadata": {},
   "outputs": [],
   "source": [
    "##add absorption contributions\n",
    "#from taurex.contributions import AbsorptionContribution\n",
    "tm_diseq.add_contribution(AbsorptionContribution())\n",
    "\n",
    "##add cia contributions\n",
    "#from taurex.contributions import CIAContribution\n",
    "tm_diseq.add_contribution(CIAContribution(cia_pairs=['H2-H2','H2-He']))\n",
    "\n",
    "##add rayleigh contributions\n",
    "#from taurex.contributions import RayleighContribution\n",
    "tm_diseq.add_contribution(RayleighContribution())\n",
    "\n",
    "##add clouds contribution. Clouds pressure is in Pa\n",
    "#from taurex.contributions import SimpleCloudsContribution\n",
    "tm_diseq.add_contribution(SimpleCloudsContribution(clouds_pressure=1e4))"
   ]
  },
  {
   "cell_type": "markdown",
   "id": "85c65b51",
   "metadata": {},
   "source": [
    "and then build the model. It will be longer than with equilibrium chemistry, because the calculation of kinetics takes more time."
   ]
  },
  {
   "cell_type": "code",
   "execution_count": null,
   "id": "83ea3cb4",
   "metadata": {
    "scrolled": true
   },
   "outputs": [],
   "source": [
    "tm_diseq.build()"
   ]
  },
  {
   "cell_type": "markdown",
   "id": "ef8c3865",
   "metadata": {},
   "source": [
    "After, the model with chemical kinetics can run:"
   ]
  },
  {
   "cell_type": "code",
   "execution_count": null,
   "id": "c37d72d6",
   "metadata": {},
   "outputs": [],
   "source": [
    "res_tm_diseq = tm_diseq.model()"
   ]
  },
  {
   "cell_type": "markdown",
   "id": "96c6528a",
   "metadata": {},
   "source": [
    "#### Emission model"
   ]
  },
  {
   "cell_type": "markdown",
   "id": "98a05808",
   "metadata": {},
   "source": [
    "Let's do now the emission model for the disequilibrium composition"
   ]
  },
  {
   "cell_type": "code",
   "execution_count": null,
   "id": "cb70af2e",
   "metadata": {},
   "outputs": [],
   "source": [
    "#from taurex.model import EmissionModel\n",
    "em_diseq = EmissionModel(planet=planet,\n",
    "                   temperature_profile=tp,\n",
    "                   chemistry=chemistry,\n",
    "                   star=star,\n",
    "                   atm_min_pressure=1e-2,\n",
    "                   atm_max_pressure=1e7,\n",
    "                   nlayers=100)"
   ]
  },
  {
   "cell_type": "code",
   "execution_count": null,
   "id": "bcf4551b",
   "metadata": {},
   "outputs": [],
   "source": [
    "##add absorption contributions\n",
    "#from taurex.contributions import AbsorptionContribution\n",
    "em_diseq.add_contribution(AbsorptionContribution())\n",
    "\n",
    "##add cia contributions\n",
    "#from taurex.contributions import CIAContribution\n",
    "em_diseq.add_contribution(CIAContribution(cia_pairs=['H2-H2','H2-He']))\n",
    "\n",
    "##add rayleigh contributions\n",
    "#from taurex.contributions import RayleighContribution\n",
    "em_diseq.add_contribution(RayleighContribution())\n",
    "\n",
    "##add clouds contribution. Clouds pressure is in Pa\n",
    "from taurex.contributions import FlatMieContribution\n",
    "em_eq.add_contribution(FlatMieContribution(flat_mix_ratio=10,flat_bottomP=1e6, flat_topP=1e3))"
   ]
  },
  {
   "cell_type": "code",
   "execution_count": null,
   "id": "cd8e1c87",
   "metadata": {},
   "outputs": [],
   "source": [
    "em_diseq.build()"
   ]
  },
  {
   "cell_type": "code",
   "execution_count": null,
   "id": "01e9e211",
   "metadata": {},
   "outputs": [],
   "source": [
    "res_em_diseq = em_diseq.model()"
   ]
  },
  {
   "cell_type": "markdown",
   "id": "32c69d70",
   "metadata": {},
   "source": [
    "### Chemical composition"
   ]
  },
  {
   "cell_type": "markdown",
   "id": "8e1f9b36",
   "metadata": {},
   "source": [
    "You can now look at the results of the model, especially the chemical composition."
   ]
  },
  {
   "cell_type": "code",
   "execution_count": null,
   "id": "a919c4b3",
   "metadata": {
    "code_folding": []
   },
   "outputs": [],
   "source": [
    "#plot of disequilibrium composition\n",
    "activechemistry = tm_diseq.chemistry.activeGasMixProfile\n",
    "inactivechemistry = tm_diseq.chemistry.inactiveGasMixProfile\n",
    "pressure = tm_diseq.pressure.profile*1e-2\n",
    "\n",
    "colors=['blue','orange','green','cyan','navy','red','gold','olive','magenta','yellow','pink','grey']\n",
    "\n",
    "fig, ax = plt.subplots()\n",
    "\n",
    "## iterate over the active gases\n",
    "for index, gas in enumerate(tm_diseq.chemistry.activeGases):\n",
    "    ax.plot(activechemistry[index, :], pressure,'-', color=colors[index], label = gas)\n",
    "    \n",
    "## iterate over the inactive gases. \n",
    "for index, gas in enumerate(tm_diseq.chemistry.inactiveGases):\n",
    "    if gas in ['H2', 'He', 'H']:\n",
    "        ax.plot(inactivechemistry[index, :], pressure,'-', label = gas)\n",
    "\n",
    "ax.legend()\n",
    "ax.set_xscale('log')\n",
    "ax.set_yscale('log')\n",
    "ax.set_xlim(1e-12, 1)\n",
    "ax.set_ylim(1e5, 1e-4)\n",
    "ax.set_xlabel('Volume Mixing Ratio')\n",
    "ax.set_ylabel('Pressure (mbar)')\n",
    "\n",
    "#plt.gca().invert_yaxis()\n",
    "plt.show()"
   ]
  },
  {
   "cell_type": "markdown",
   "id": "97ae8fda",
   "metadata": {},
   "source": [
    "A convenient way to see the influence of mixing and photodissociations is to plot both chemical composition on the same plot. For instance:"
   ]
  },
  {
   "cell_type": "code",
   "execution_count": null,
   "id": "cf2c1b87",
   "metadata": {},
   "outputs": [],
   "source": [
    "#plot of disequibrium and equilibrium compositions\n",
    "\n",
    "##uncomment these lines if you did not plot abundances before\n",
    "#activechemistry = tm_diseq.chemistry.activeGasMixProfile\n",
    "#inactivechemistry = tm_diseq.chemistry.inactiveGasMixProfile\n",
    "#activechemistry_eq = tmeq.chemistry.activeGasMixProfile\n",
    "#inactivechemistry_eq = tmeq.chemistry.inactiveGasMixProfile\n",
    "#pressure_eq = tmeq.pressure.profile\n",
    "#temperature_eq = tmeq.temperature.profile\n",
    "\n",
    "colors=['blue','red','green','cyan','pink','orange','gold','olive','magenta','yellow','navy','grey']\n",
    "\n",
    "fig, ax = plt.subplots()\n",
    "\n",
    "## iterate over the active gases\n",
    "for index, gas in enumerate(tm_eq.chemistry.activeGases):\n",
    "    ax.plot(activechemistry_eq[index, :], pressure_eq,'--', alpha=0.3,color=colors[index])\n",
    "for index, gas in enumerate(tm_diseq.chemistry.activeGases):   \n",
    "    ax.plot(activechemistry[index, :], pressure,'-', label = gas,color=colors[index])\n",
    "    \n",
    "## iterate over the inactive gases. \n",
    "for index, gas in enumerate(tm_eq.chemistry.inactiveGases):\n",
    "    if gas in ['H2', 'He', 'H']:\n",
    "        ax.plot(inactivechemistry_eq[index, :], pressure_eq,'--', alpha=0.3)\n",
    "for index, gas in enumerate(tm_diseq.chemistry.inactiveGases):\n",
    "    if gas in ['H2', 'He', 'H']:\n",
    "        ax.plot(inactivechemistry[index, :], pressure,'-', label = gas)\n",
    "        \n",
    "    \n",
    "ax.legend()\n",
    "ax.set_xscale('log')\n",
    "ax.set_yscale('log')\n",
    "ax.set_xlim(1e-12, 1)\n",
    "ax.set_ylim(1e5, 1e-4)\n",
    "ax.set_xlabel('Volume Mixing Ratio')\n",
    "ax.set_ylabel('Pressure (mbar)')\n",
    "\n",
    "#plt.gca().invert_yaxis()\n",
    "plt.show()"
   ]
  },
  {
   "cell_type": "markdown",
   "id": "de0bccb0",
   "metadata": {},
   "source": [
    "You can see the influence of vertical mixing, with quenching of CH$_4$, NH$_3$, and HCN. You also see the influence of photodissociations, with production of H and HCN in the upper atmosphere, as well as the destruction of NH$_3$."
   ]
  },
  {
   "cell_type": "markdown",
   "id": "ccde4451",
   "metadata": {},
   "source": [
    "### Synthetic spectra"
   ]
  },
  {
   "cell_type": "markdown",
   "id": "2ca9e683",
   "metadata": {},
   "source": [
    "#### Transmission spectrum"
   ]
  },
  {
   "cell_type": "markdown",
   "id": "c043c503",
   "metadata": {},
   "source": [
    "Let's now plot the corresponding transmission spectrum, binned down to a resolution of R=80."
   ]
  },
  {
   "cell_type": "code",
   "execution_count": null,
   "id": "8ac5246d",
   "metadata": {},
   "outputs": [],
   "source": [
    "native_grid_diseq, rprs_diseq, tau_diseq, _ = res_tm_diseq\n",
    "### conversion from wavenumber to wavelengths.\n",
    "native_grid_wl_diseq = 10000/native_grid_diseq"
   ]
  },
  {
   "cell_type": "code",
   "execution_count": null,
   "id": "dca72e26",
   "metadata": {},
   "outputs": [],
   "source": [
    "#from taurex.binning import FluxBinner\n",
    "#from taurex.util.util import create_grid_res\n",
    "# We choose the resolution and the range of wavelength\n",
    "lowres_grid = create_grid_res(80, 0.5, 8.0)\n",
    "# We initialise the binner with this grid, passing the wavelength and the bin size.\n",
    "fb = FluxBinner(lowres_grid[:,0], lowres_grid[:,1])\n",
    "# We can now bin the native spectrum (Note that the grid must be sorted by increasing wavelengths)\n",
    "lowres_spectrum_diseq = fb.bindown(native_grid_wl_diseq[::-1], rprs_diseq[::-1])"
   ]
  },
  {
   "cell_type": "code",
   "execution_count": null,
   "id": "b5ade8a1",
   "metadata": {},
   "outputs": [],
   "source": [
    "plt.figure()\n",
    "plt.plot(native_grid_wl_diseq, rprs_diseq, color='blue', label='High resolution spectrum')\n",
    "plt.plot(lowres_spectrum_diseq[0], lowres_spectrum_diseq[1], color='orange', label='Low resolution spectrum')\n",
    "plt.xlabel('Wavelength ($\\mu$m)')\n",
    "plt.ylabel('Transit depth (%)')\n",
    "plt.legend()\n",
    "plt.xlim(0.5,8.0)\n",
    "plt.show()"
   ]
  },
  {
   "cell_type": "markdown",
   "id": "8d3ac854",
   "metadata": {},
   "source": [
    "Let's plot equilibrium and disequilibrium spectra on the same plot:"
   ]
  },
  {
   "cell_type": "code",
   "execution_count": null,
   "id": "49333f42",
   "metadata": {},
   "outputs": [],
   "source": [
    "plt.figure()\n",
    "plt.plot(lowres_spectrum_diseq[0], lowres_spectrum_diseq[1], color='blue', label='disequilibrium')\n",
    "plt.plot(lowres_spectrum_eq[0], lowres_spectrum_eq[1], color='red', label='equilibrium')\n",
    "plt.legend()\n",
    "plt.xlabel('Wavelength ($\\mu$m)')\n",
    "plt.ylabel('Transit depth (%)')\n",
    "plt.xlim(0.5, 8)\n",
    "plt.show()"
   ]
  },
  {
   "cell_type": "markdown",
   "id": "a06d91c4",
   "metadata": {},
   "source": [
    "You see that the difference between equilibrium and disequilibrium composition between 3 and 4 $\\mu$m, around 4.5 $\\mu$m and between 6 and 8 $\\mu$m."
   ]
  },
  {
   "cell_type": "markdown",
   "id": "323b07a7",
   "metadata": {},
   "source": [
    "#### Emission spectrum"
   ]
  },
  {
   "cell_type": "markdown",
   "id": "1b57d8e9",
   "metadata": {},
   "source": [
    "Let's plot the corresponding emission spectrum, binned dow to a low resolution:"
   ]
  },
  {
   "cell_type": "code",
   "execution_count": null,
   "id": "3e095c85",
   "metadata": {},
   "outputs": [],
   "source": [
    "# Emission spectrum for disequilibrim composition:\n",
    "native_grid_em_diseq, fpfs_em_diseq, tau_em_diseq, _ = res_em_diseq\n",
    "native_grid_wl_em_diseq = 10000/native_grid_em_diseq"
   ]
  },
  {
   "cell_type": "code",
   "execution_count": null,
   "id": "fcd32565",
   "metadata": {},
   "outputs": [],
   "source": [
    "#from taurex.binning import FluxBinner\n",
    "#from taurex.util.util import create_grid_res\n",
    "# We choose the resolution and the range of wavelength\n",
    "lowres_grid = create_grid_res(80, 0.5, 8.0)\n",
    "# We initialise the binner with this grid, passing the wavelength and the bin size.\n",
    "fb = FluxBinner(lowres_grid[:,0], lowres_grid[:,1])\n",
    "# We can now bin the native spectrum (Note that the grid must be sorted by increasing wavelengths)\n",
    "lowres_spectrum_em_diseq = fb.bindown(native_grid_wl_em_diseq[::-1], fpfs_em_diseq[::-1])"
   ]
  },
  {
   "cell_type": "code",
   "execution_count": null,
   "id": "8f3843da",
   "metadata": {},
   "outputs": [],
   "source": [
    "plt.figure()\n",
    "plt.plot(native_grid_wl_em_diseq, fpfs_em_diseq, color='blue', label='High resolution spectrum')\n",
    "plt.plot(lowres_spectrum_em_diseq[0], lowres_spectrum_em_diseq[1], color='orange', label='Low resolution spectrum')\n",
    "plt.xlabel('Wavelength ($\\mu$m)')\n",
    "plt.ylabel('Transit depth (%)')\n",
    "plt.legend()\n",
    "plt.xlim(0.5,8.0)\n",
    "plt.ylim(0,0.0015)\n",
    "plt.show()"
   ]
  },
  {
   "cell_type": "markdown",
   "id": "56186c7e",
   "metadata": {},
   "source": [
    "Let's plot also equilibrium and disequilibrium spectra on the same plot:"
   ]
  },
  {
   "cell_type": "code",
   "execution_count": null,
   "id": "ec556091",
   "metadata": {},
   "outputs": [],
   "source": [
    "plt.figure()\n",
    "plt.plot(lowres_spectrum_em_diseq[0], lowres_spectrum_em_diseq[1], color='blue', label='disequilibrium')\n",
    "plt.plot(lowres_spectrum_em_eq[0], lowres_spectrum_em_eq[1], color='red', label='equilibrium')\n",
    "plt.xlabel('Wavelength ($\\mu$m)')\n",
    "plt.ylabel('F$_p$/F$_s$')\n",
    "plt.xlim(0.5, 8)\n",
    "plt.ylim(0,0.0015)\n",
    "plt.legend()\n",
    "plt.show()"
   ]
  },
  {
   "cell_type": "markdown",
   "id": "4a49f2e8",
   "metadata": {},
   "source": [
    "The difference between equilibrium and disequilibrium composition is highly visible on emission."
   ]
  },
  {
   "cell_type": "markdown",
   "id": "d6991f04",
   "metadata": {},
   "source": [
    "# Additional informations and plots\n",
    "\n",
    "In this part, you will see some useful command lines to save results for instance in text files and also some additional plots."
   ]
  },
  {
   "cell_type": "markdown",
   "id": "5fa98e3c",
   "metadata": {},
   "source": [
    "## Thermal profile"
   ]
  },
  {
   "cell_type": "markdown",
   "id": "e7a34ef9",
   "metadata": {},
   "source": [
    "Various informations are accessible when the model ran, like temperature, pressure.\n",
    "For the transmission model at equilibrium (`tm_eq`), the temperature object is accessible with `tm_eq.temperature` (and `em_eq.temperature`). Similarly, the pressure object, is accessible via `tmeq.pressure`(and `em_eq.pressure`). The units are originally in Kelvin and Pascal, for respectively the temperature and the pressure. You can see the data contained in these two objects by writing :\n"
   ]
  },
  {
   "cell_type": "code",
   "execution_count": null,
   "id": "fa123a8f",
   "metadata": {
    "code_folding": [],
    "scrolled": true
   },
   "outputs": [],
   "source": [
    "# Temperature profile\n",
    "print(tm_eq.temperature.profile)"
   ]
  },
  {
   "cell_type": "code",
   "execution_count": null,
   "id": "5b35757d",
   "metadata": {
    "scrolled": false
   },
   "outputs": [],
   "source": [
    "# Pressure profile\n",
    "print(tm_eq.pressure.profile)"
   ]
  },
  {
   "cell_type": "markdown",
   "id": "44c477fb",
   "metadata": {},
   "source": [
    "And you can of course plot these data. You can choose the unit you prefer to have in your plot. Here, we convert the pressure in mbar instead of Pascal."
   ]
  },
  {
   "cell_type": "code",
   "execution_count": null,
   "id": "6e91e731",
   "metadata": {},
   "outputs": [],
   "source": [
    "#plot the temperature profile\n",
    "pressure = tm_eq.pressure.profile*1e-2\n",
    "temperature = tm_eq.temperature.profile\n",
    "\n",
    "fig, ax = plt.subplots()\n",
    "\n",
    "ax.plot(temperature, pressure,'-', color = 'firebrick', linewidth=3, label = 'Temperature')\n",
    "\n",
    "ax.legend()\n",
    "ax.set_yscale('log')\n",
    "ax.set_ylim(1e5, 1e-4)\n",
    "ax.set_ylabel('Pressure (mbar)')\n",
    "ax.set_xlabel('Temperature (K)')\n",
    "#plt.gca().invert_yaxis()\n",
    "plt.show()"
   ]
  },
  {
   "cell_type": "markdown",
   "id": "a51974de",
   "metadata": {},
   "source": [
    "## Information about chemistry\n",
    "\n",
    "For the transmission model, with disequilibrium chemistry, you can access the chemistry object with `tm_diseq.chemistry`. For the other models, just replace `tm_diseq` with the correct name. \n",
    "\n",
    "You can check which gases are included in the model. You can check which gases have IR cross sections and are considered as active for `TauREx`. These gases will contribute to the calculation of the absorption. The other ones are considered for the calculation of chemical kinetics but are 'inactive' for `TauREx`. You can do that with the following lines:"
   ]
  },
  {
   "cell_type": "code",
   "execution_count": null,
   "id": "f65c4d0b",
   "metadata": {
    "scrolled": true
   },
   "outputs": [],
   "source": [
    "## Chemistry object:\n",
    "print(tm_diseq.chemistry)\n",
    "\n",
    "# the active gases:\n",
    "print('active gases:', tm_diseq.chemistry.activeGases)\n",
    "# the inactive:\n",
    "print('inactive gases:', tm_diseq.chemistry.inactiveGases)\n"
   ]
  },
  {
   "cell_type": "markdown",
   "id": "46cacffa",
   "metadata": {},
   "source": [
    "The abundances for the active species can be found by `tm_diseq.chemistry.activeGasMixProfil`\n",
    "\n",
    "You can also check the elemental abundances used in the model with:\n"
   ]
  },
  {
   "cell_type": "code",
   "execution_count": null,
   "id": "f86f32dd",
   "metadata": {},
   "outputs": [],
   "source": [
    "print('H=',tm_diseq.chemistry.H_abund_dex)\n",
    "print('C=',tm_diseq.chemistry.C_abund_dex)\n",
    "print('O=',tm_diseq.chemistry.O_abund_dex)\n",
    "print('N=',tm_diseq.chemistry.N_abund_dex)"
   ]
  },
  {
   "cell_type": "markdown",
   "id": "2da53fcc",
   "metadata": {},
   "source": [
    "Many other attribute exists, see taurex library at: https://taurex3-public.readthedocs.io/en/latest/api/modules.html"
   ]
  },
  {
   "cell_type": "markdown",
   "id": "de1f576a",
   "metadata": {},
   "source": [
    "## Save the results\n",
    "\n",
    "It can be useful to save the results of the model in text files in order to use it afterward.\n",
    "\n",
    "### Thermal profile\n",
    "\n",
    "To save the thermal profile you can do: "
   ]
  },
  {
   "cell_type": "code",
   "execution_count": null,
   "id": "4da26268",
   "metadata": {},
   "outputs": [],
   "source": [
    "pressure = tm_diseq.pressure.profile\n",
    "temperature = tm_diseq.temperature.profile\n",
    "\n",
    "np.savetxt('Outputs/my_temperature_profile.txt', np.array([pressure, temperature]).T)"
   ]
  },
  {
   "cell_type": "markdown",
   "id": "a7fc338b",
   "metadata": {},
   "source": [
    "### Abundances\n",
    "\n",
    "To save the abundances of all molecules in a single text file, a routine already exists. The output will be a textfile with 2 lines of header giving the species on the first line and the molecular masses on the second line.\n",
    "The next lines will be the abundances of species at all pressure levels. The columns will be : altitude (km), pressure (mbar), and mixing ratios.\n",
    "It is convenient to indicate the `name` of the planet, the elemental ratios, and the value of vertical mixing in the filename."
   ]
  },
  {
   "cell_type": "code",
   "execution_count": null,
   "id": "e1c5bcb7",
   "metadata": {},
   "outputs": [],
   "source": [
    "#filename for disequilibrium abundances\n",
    "from pychegp.tools import write_to_olivia_format\n",
    "\n",
    "O_abund_dex = tm_diseq.chemistry.O_abund_dex\n",
    "C_abund_dex = tm_diseq.chemistry.C_abund_dex\n",
    "N_abund_dex = tm_diseq.chemistry.N_abund_dex\n",
    "Kzz_name = 'Kzz_1e'+str(np.log10(tm_diseq.chemistry.Kzz))\n",
    "species = tm_diseq.chemistry._chegp.species\n",
    "mole_masses = tm_diseq.chemistry._chegp.mole_masses\n",
    "altitude = tm_diseq.chemistry._chegp.altitude\n",
    "P = 1e-2*tm_diseq.chemistry._chegp.P\n",
    "fm = tm_diseq.chemistry._chegp.fm\n",
    "folder = 'Outputs/'\n",
    "\n",
    "filename = os.path.join(folder,f'fractions_molaires_{name}_O{O_abund_dex:.3f}_C{C_abund_dex:.3f}_N{N_abund_dex:.3f}{Kzz_name}.dat')\n",
    "\n",
    "write_to_olivia_format(filename, species, mole_masses, altitude, P, fm)\n"
   ]
  },
  {
   "cell_type": "markdown",
   "id": "3f9d2e8a",
   "metadata": {},
   "source": [
    "For thermochemical equilibrium, you can use :"
   ]
  },
  {
   "cell_type": "code",
   "execution_count": null,
   "id": "05eecf83",
   "metadata": {},
   "outputs": [],
   "source": [
    "#filename for equilibrium abundances\n",
    "from pychegp.tools import write_to_olivia_format\n",
    "\n",
    "O_abund_dex = tm_eq.chemistry.O_abund_dex\n",
    "C_abund_dex = tm_eq.chemistry.C_abund_dex\n",
    "N_abund_dex = tm_eq.chemistry.N_abund_dex\n",
    "#Kzz_name = 'Kzz_1e'+str(np.log10(tm_diseq.chemistry.Kzz))\n",
    "species = tm_eq.chemistry._species\n",
    "mole_masses = tm_eq.chemistry._molar_masses\n",
    "altitude = tm_eq.altitude_profile\n",
    "P = 1e-2*tm_eq._pressure_profile.profile\n",
    "fm = tm_eq.chemistry._mix_profile\n",
    "folder = 'Outputs/'\n",
    "\n",
    "filename = os.path.join(folder,f'fractions_molaires_thermo_{name}_O{O_abund_dex:.3f}_C{C_abund_dex:.3f}_N{N_abund_dex:.3f}.dat')\n",
    "\n",
    "write_to_olivia_format(filename, species, mole_masses, altitude, P, fm)\n"
   ]
  },
  {
   "cell_type": "markdown",
   "id": "7bc8fbe8",
   "metadata": {},
   "source": [
    "### Plot abundances profiles with thermal profile"
   ]
  },
  {
   "cell_type": "markdown",
   "id": "247bf385",
   "metadata": {},
   "source": [
    "You can also plot the temperature together with the abundances profiles with the following lines:"
   ]
  },
  {
   "cell_type": "code",
   "execution_count": null,
   "id": "e7cb865b",
   "metadata": {},
   "outputs": [],
   "source": [
    "activechemistry = tm_diseq.chemistry.activeGasMixProfile\n",
    "inactivechemistry = tm_diseq.chemistry.inactiveGasMixProfile\n",
    "pressure = tm_diseq.pressure.profile*1e-2\n",
    "temperature = tm_diseq.temperature.profile\n",
    "\n",
    "fig, ax = plt.subplots()\n",
    "\n",
    "## iterate over the active gases\n",
    "for index, gas in enumerate(tm_diseq.chemistry.activeGases):\n",
    "    ax.plot(activechemistry[index, :], pressure,'-', label = gas)\n",
    "    \n",
    "## iterate over the inactive gases. \n",
    "for index, gas in enumerate(tm_diseq.chemistry.inactiveGases):\n",
    "    if gas in ['H2', 'He']:\n",
    "        ax.plot(inactivechemistry[index, :], pressure,'-', label = gas)\n",
    "    # You can also add all molecules, without labels !\n",
    " #   else:\n",
    " #       ax.plot(inactivechemistry[index, :], pressure,'--', alpha = 0.3)\n",
    "    \n",
    "ax2=ax.twiny()\n",
    "ax2.plot(temperature, pressure,'-.', color = 'firebrick', linewidth=3, label = 'Temperature')\n",
    "\n",
    "ax.legend()\n",
    "ax.set_xscale('log')\n",
    "ax.set_yscale('log')\n",
    "ax.set_xlim(1e-15, 1)\n",
    "ax.set_ylim(1e5, 1e-4)\n",
    "ax.set_xlabel('Volume Mixing Ratio')\n",
    "ax.set_ylabel('Pressure (mbar)')\n",
    "\n",
    "ax2.legend(loc=\"lower right\")\n",
    "ax2.set_xlabel('Temperature (K)')\n",
    "#plt.gca().invert_yaxis()\n",
    "plt.show()"
   ]
  },
  {
   "cell_type": "markdown",
   "id": "3366711d",
   "metadata": {},
   "source": [
    "### Make a movie of the evolution over time"
   ]
  },
  {
   "cell_type": "markdown",
   "id": "34e08cef",
   "metadata": {},
   "source": [
    "Thanks to the script `pychegp.movie` (available here: *URL*), you can make an movie of the evolution of the atmospheric composition with time. You need to save the composition at different time step in a `history` file:\n",
    "\n"
   ]
  },
  {
   "cell_type": "code",
   "execution_count": null,
   "id": "dfa4bbe3",
   "metadata": {},
   "outputs": [],
   "source": [
    "#save .history for movie\n",
    "fms = tm_diseq.chemistry._fms\n",
    "ts = tm_diseq.chemistry._ts\n",
    "species = tm_diseq.chemistry._chegp.species\n",
    "T = tm_diseq.chemistry._chegp.T\n",
    "conv = True\n",
    "\n",
    "output = fms, ts, conv\n",
    "results = {'species': species, 'oderesult': output, 'T' : T, 'P': P}\n",
    "filename = 'test.history'\n",
    "\n",
    "import pickle\n",
    "\n",
    "with open(filename,'wb') as f:\n",
    "    pickle.dump(results,f)"
   ]
  },
  {
   "cell_type": "markdown",
   "id": "073b6967",
   "metadata": {},
   "source": [
    "Then, with the command line on a terminal:\n",
    "```\n",
    "python -m pychegp.movie -i test.history -o movie.mp4 \n",
    "```\n",
    "\n",
    "you will create the movie.\n",
    "You can also add an atmospheric composition to compare with, for instance the thermochemical equilibrium with :\n",
    "```\n",
    "-c file_to_compare.dat\n",
    "```\n",
    "\n",
    "Then you can see the movie with the command:\n",
    "```\n",
    "open movie.mp4\n",
    "```\n"
   ]
  },
  {
   "cell_type": "markdown",
   "id": "9a4f2fb4",
   "metadata": {},
   "source": [
    "# Model with an external thermal profile"
   ]
  },
  {
   "cell_type": "markdown",
   "id": "0ba81f5b",
   "metadata": {},
   "source": [
    "You can import a thermal profile that has been calculated with a GCM for instance. Here we import the profile of HD 209458b and published originally in Moses et al. 2011."
   ]
  },
  {
   "cell_type": "code",
   "execution_count": null,
   "id": "c6491640",
   "metadata": {
    "code_folding": []
   },
   "outputs": [],
   "source": [
    "# HD 209458b - Moses et al. 2011 profile\n",
    "from taurex.temperature import TemperatureFile\n",
    "TemperatureFile = TemperatureFile(filename=\"pychegp/HD209458b/profil_HD209458b.dat\", skiprows=0, temp_col=2,\n",
    "                                  press_col=1, temp_units='K', press_units='mbar',delimiter=None, reverse=False)\n"
   ]
  },
  {
   "cell_type": "markdown",
   "id": "885da91c",
   "metadata": {},
   "source": [
    "Then, you reconstruct your models (equilibrium, disequilibrium) using this profile, and run them."
   ]
  },
  {
   "cell_type": "code",
   "execution_count": null,
   "id": "d6f0b65f",
   "metadata": {},
   "outputs": [],
   "source": [
    "#PLANET\n",
    "from taurex.planet import Planet\n",
    "# planet_radius in Jupiter radius\n",
    "# planet_mass in Jupiter mass\n",
    "planet = Planet(planet_radius=1.34,planet_mass=0.69)\n",
    "name = 'HD209458b'"
   ]
  },
  {
   "cell_type": "code",
   "execution_count": null,
   "id": "40b0853b",
   "metadata": {},
   "outputs": [],
   "source": [
    "#transmission model with equilibrium chemistry\n",
    "from taurex.model import TransmissionModel\n",
    "tmeq = TransmissionModel(planet=planet,\n",
    "                       temperature_profile=TemperatureFile,\n",
    "                       chemistry=chemistryACE,\n",
    "                       star=star,\n",
    "                       atm_min_pressure=1e-2,\n",
    "                       atm_max_pressure=1e7,\n",
    "                       nlayers=100)"
   ]
  },
  {
   "cell_type": "code",
   "execution_count": null,
   "id": "8d2b6370",
   "metadata": {},
   "outputs": [],
   "source": [
    "# add absorption contributions\n",
    "from taurex.contributions import AbsorptionContribution\n",
    "tmeq.add_contribution(AbsorptionContribution())\n",
    "# add cia contributions\n",
    "from taurex.contributions import CIAContribution\n",
    "tmeq.add_contribution(CIAContribution(cia_pairs=['H2-H2','H2-He']))\n",
    "# add rayleigh contributions\n",
    "from taurex.contributions import RayleighContribution\n",
    "tmeq.add_contribution(RayleighContribution())\n",
    "# add clouds contribution. Clouds pressure is in Pa\n",
    "from taurex.contributions import SimpleCloudsContribution\n",
    "tmeq.add_contribution(SimpleCloudsContribution(clouds_pressure=1e4))"
   ]
  },
  {
   "cell_type": "code",
   "execution_count": null,
   "id": "3602189b",
   "metadata": {},
   "outputs": [],
   "source": [
    "#build the equilibrium model\n",
    "tmeq.build()"
   ]
  },
  {
   "cell_type": "code",
   "execution_count": null,
   "id": "320ca586",
   "metadata": {},
   "outputs": [],
   "source": [
    "#run the equilibrium model\n",
    "res = tmeq.model()"
   ]
  },
  {
   "cell_type": "code",
   "execution_count": null,
   "id": "c0d2fbde",
   "metadata": {},
   "outputs": [],
   "source": [
    "#plot of thermochemical equilibrium\n",
    "\n",
    "activechemistry_eq = tmeq.chemistry.activeGasMixProfile\n",
    "inactivechemistry_eq = tmeq.chemistry.inactiveGasMixProfile\n",
    "pressure_eq = tmeq.pressure.profile*1e-2\n",
    "\n",
    "colors=['blue','orange','green','cyan','navy','red','gold','olive','magenta','yellow','pink','grey']\n",
    "\n",
    "fig, ax = plt.subplots()\n",
    "\n",
    "## iterate over the active gases\n",
    "for index, gas in enumerate(tmeq.chemistry.activeGases):\n",
    "    ax.plot(activechemistry_eq[index, :], pressure_eq,'-',color=colors[index], label=gas)\n",
    "    \n",
    "## iterate over the inactive gases. \n",
    "for index, gas in enumerate(tmeq.chemistry.inactiveGases):\n",
    "    if gas in ['H2', 'He']:\n",
    "        ax.plot(inactivechemistry_eq[index, :], pressure_eq,'-', label=gas)    \n",
    "\n",
    "\n",
    "ax.legend()\n",
    "ax.set_xscale('log')\n",
    "ax.set_yscale('log')\n",
    "ax.set_xlim(1e-15, 1)\n",
    "ax.set_ylim(1e5, 1e-4)\n",
    "ax.set_xlabel('Volume Mixing Ratio')\n",
    "ax.set_ylabel('Pressure (mbar)')\n",
    "\n",
    "plt.show()"
   ]
  },
  {
   "cell_type": "code",
   "execution_count": null,
   "id": "1e6f5491",
   "metadata": {},
   "outputs": [],
   "source": [
    "#transmission model with disequilibrium chemistry\n",
    "from taurex.model import TransmissionModel\n",
    "tmd = TransmissionModel(planet=planet,\n",
    "                       temperature_profile=TemperatureFile,\n",
    "                       chemistry=chemistry,\n",
    "                       star=star,\n",
    "                       atm_min_pressure=1e-2,\n",
    "                       atm_max_pressure=1e7,\n",
    "                       nlayers=100)"
   ]
  },
  {
   "cell_type": "code",
   "execution_count": null,
   "id": "fd89d756",
   "metadata": {},
   "outputs": [],
   "source": [
    "# add absorption contributions\n",
    "from taurex.contributions import AbsorptionContribution\n",
    "tmd.add_contribution(AbsorptionContribution())\n",
    "# add cia contributions\n",
    "from taurex.contributions import CIAContribution\n",
    "tmd.add_contribution(CIAContribution(cia_pairs=['H2-H2','H2-He']))\n",
    "# add rayleigh contributions\n",
    "from taurex.contributions import RayleighContribution\n",
    "tmd.add_contribution(RayleighContribution())\n",
    "# add clouds contribution. Clouds pressure is in Pa\n",
    "from taurex.contributions import SimpleCloudsContribution\n",
    "tmd.add_contribution(SimpleCloudsContribution(clouds_pressure=1e4))"
   ]
  },
  {
   "cell_type": "code",
   "execution_count": null,
   "id": "964c7661",
   "metadata": {},
   "outputs": [],
   "source": [
    "#build the disequilibrium model\n",
    "tmd.build()"
   ]
  },
  {
   "cell_type": "code",
   "execution_count": null,
   "id": "8640586d",
   "metadata": {},
   "outputs": [],
   "source": [
    "#run the disequilibrium model\n",
    "resd = tmd.model()"
   ]
  },
  {
   "cell_type": "code",
   "execution_count": null,
   "id": "bae59878",
   "metadata": {},
   "outputs": [],
   "source": [
    "#plot of disequilibrium composition\n",
    "activechemistry = tmd.chemistry.activeGasMixProfile\n",
    "inactivechemistry = tmd.chemistry.inactiveGasMixProfile\n",
    "pressure = tmd.pressure.profile*1e-2\n",
    "\n",
    "colors=['blue','orange','green','cyan','navy','red','gold','olive','magenta','yellow','pink','grey']\n",
    "\n",
    "fig, ax = plt.subplots()\n",
    "\n",
    "## iterate over the active gases\n",
    "for index, gas in enumerate(tmd.chemistry.activeGases):\n",
    "    ax.plot(activechemistry[index, :], pressure,'-', color=colors[index], label = gas)\n",
    "    \n",
    "## iterate over the inactive gases. \n",
    "for index, gas in enumerate(tmd.chemistry.inactiveGases):\n",
    "    if gas in ['H2', 'He']:\n",
    "        ax.plot(inactivechemistry[index, :], pressure,'-', label = gas)\n",
    "\n",
    "ax.legend()\n",
    "ax.set_xscale('log')\n",
    "ax.set_yscale('log')\n",
    "ax.set_xlim(1e-15, 1)\n",
    "ax.set_ylim(1e5, 1e-4)\n",
    "ax.set_xlabel('Volume Mixing Ratio')\n",
    "ax.set_ylabel('Pressure (mbar)')\n",
    "\n",
    "#plt.gca().invert_yaxis()\n",
    "plt.show()"
   ]
  },
  {
   "cell_type": "code",
   "execution_count": null,
   "id": "ece27234",
   "metadata": {},
   "outputs": [],
   "source": [
    "#plot of disequibrium and equilibrium compositions\n",
    "\n",
    "##uncomment these lines if you did not plot abundances before\n",
    "#activechemistry = tmd.chemistry.activeGasMixProfile\n",
    "#inactivechemistry = tmd.chemistry.inactiveGasMixProfile\n",
    "#activechemistry_eq = tmeq.chemistry.activeGasMixProfile\n",
    "#inactivechemistry_eq = tmeq.chemistry.inactiveGasMixProfile\n",
    "#pressure_eq = tmeq.pressure.profile\n",
    "#temperature_eq = tmeq.temperature.profile\n",
    "\n",
    "colors=['blue','red','green','cyan','pink','orange','gold','olive','magenta','yellow','navy','grey']\n",
    "\n",
    "fig, ax = plt.subplots()\n",
    "\n",
    "## iterate over the active gases\n",
    "for index, gas in enumerate(tmeq.chemistry.activeGases):\n",
    "    ax.plot(activechemistry_eq[index, :], pressure_eq,'--', alpha=0.3,color=colors[index])\n",
    "for index, gas in enumerate(tmd.chemistry.activeGases):   \n",
    "    ax.plot(activechemistry[index, :], pressure,'-', label = gas,color=colors[index])\n",
    "    \n",
    "## iterate over the inactive gases. \n",
    "for index, gas in enumerate(tmeq.chemistry.inactiveGases):\n",
    "    if gas in ['H2', 'He']:\n",
    "        ax.plot(inactivechemistry_eq[index, :], pressure_eq,'--', alpha=0.3)\n",
    "for index, gas in enumerate(tmd.chemistry.inactiveGases):\n",
    "    if gas in ['H2', 'He']:\n",
    "        ax.plot(inactivechemistry[index, :], pressure,'-', label = gas)\n",
    "        \n",
    "    \n",
    "ax.legend()\n",
    "ax.set_xscale('log')\n",
    "ax.set_yscale('log')\n",
    "ax.set_xlim(1e-15, 1)\n",
    "ax.set_ylim(1e5, 1e-4)\n",
    "ax.set_xlabel('Volume Mixing Ratio')\n",
    "ax.set_ylabel('Pressure (mbar)')\n",
    "\n",
    "#plt.gca().invert_yaxis()\n",
    "plt.show()"
   ]
  },
  {
   "cell_type": "code",
   "execution_count": null,
   "id": "b3944010",
   "metadata": {},
   "outputs": [],
   "source": [
    "#plot the temperature profile\n",
    "pressure = tmeq.pressure.profile*1e-2\n",
    "temperature = tmeq.temperature.profile\n",
    "\n",
    "fig, ax = plt.subplots()\n",
    "\n",
    "ax.plot(temperature, pressure,'-', color = 'firebrick', linewidth=3, label = 'Temperature')\n",
    "\n",
    "ax.legend()\n",
    "ax.set_yscale('log')\n",
    "ax.set_ylim(1e5, 1e-4)\n",
    "ax.set_ylabel('Pressure (mbar)')\n",
    "ax.set_xlabel('Temperature (K)')\n",
    "#plt.gca().invert_yaxis()\n",
    "plt.show()"
   ]
  },
  {
   "cell_type": "markdown",
   "id": "f773de40",
   "metadata": {},
   "source": [
    "Let's plot the spectra..."
   ]
  },
  {
   "cell_type": "code",
   "execution_count": null,
   "id": "76de4f1b",
   "metadata": {},
   "outputs": [],
   "source": [
    "native_grid_d, rprs_d, tau_d, _ = resd\n",
    "native_grid_eq, rprs_eq, tau_eq, _ = res\n",
    "\n",
    "### conversion from wavenumber to wavelengths.\n",
    "native_grid_wl_d = 10000/native_grid_d\n",
    "native_grid_wl_eq = 10000/native_grid_eq\n",
    "\n",
    "#from taurex.binning import FluxBinner\n",
    "#from taurex.util.util import create_grid_res\n",
    "# We choose the resolution and the range of wavelength\n",
    "\n",
    "lowres_grid = create_grid_res(80, 0.5, 8.0)\n",
    "# We initialise the binner with this grid, passing the wavelength and the bin size.\n",
    "fb = FluxBinner(lowres_grid[:,0], lowres_grid[:,1])\n",
    "\n",
    "# We can now bin the native spectrum (Note that the grid must be sorted by increasing wavelengths)\n",
    "lowres_spectrum_d = fb.bindown(native_grid_wl_d[::-1], rprs_d[::-1])\n",
    "lowres_spectrum_eq = fb.bindown(native_grid_wl_eq[::-1], rprs_eq[::-1])"
   ]
  },
  {
   "cell_type": "code",
   "execution_count": null,
   "id": "9657cdd7",
   "metadata": {},
   "outputs": [],
   "source": [
    "plt.figure()\n",
    "plt.plot(lowres_spectrum_d[0], lowres_spectrum_d[1], color='blue', label='disequilibrium')\n",
    "plt.plot(lowres_spectrum_eq[0], lowres_spectrum_eq[1], color='red', label='equilibrium')\n",
    "plt.legend()\n",
    "plt.xlabel('Wavelength ($\\mu$m)')\n",
    "plt.ylabel('Transit depth (%)')\n",
    "plt.xlim(0.5, 8)\n",
    "plt.show()"
   ]
  },
  {
   "cell_type": "markdown",
   "id": "f1cde5f2",
   "metadata": {},
   "source": [
    "# Variations of parameters\n",
    "\n",
    "Now it's time for you to play with the various parameters (thermal profiles, vertical mixing, C/O ratio) to see their effect on the chemical composition and on the synthetic spectra..."
   ]
  }
 ],
 "metadata": {
  "celltoolbar": "Initialization Cell",
  "kernelspec": {
   "display_name": "Python 3 (ipykernel)",
   "language": "python",
   "name": "python3"
  },
  "language_info": {
   "codemirror_mode": {
    "name": "ipython",
    "version": 3
   },
   "file_extension": ".py",
   "mimetype": "text/x-python",
   "name": "python",
   "nbconvert_exporter": "python",
   "pygments_lexer": "ipython3",
   "version": "3.7.11"
  },
  "toc": {
   "base_numbering": 1,
   "nav_menu": {},
   "number_sections": true,
   "sideBar": true,
   "skip_h1_title": false,
   "title_cell": "Table of Contents",
   "title_sidebar": "Contents",
   "toc_cell": false,
   "toc_position": {
    "height": "calc(100% - 180px)",
    "left": "10px",
    "top": "150px",
    "width": "165px"
   },
   "toc_section_display": true,
   "toc_window_display": true
  }
 },
 "nbformat": 4,
 "nbformat_minor": 5
}
